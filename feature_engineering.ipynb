{
 "cells": [
  {
   "cell_type": "markdown",
   "metadata": {},
   "source": [
    "**1. Feature Engineering**"
   ]
  },
  {
   "cell_type": "markdown",
   "metadata": {},
   "source": [
    "**1.1 Import the required libraries.**"
   ]
  },
  {
   "cell_type": "code",
   "execution_count": 1,
   "metadata": {},
   "outputs": [],
   "source": [
    "'''Necessary libraries.'''\n",
    "import pandas as pd                 # Pandas for tabular data manipulation.\n",
    "import json                         # Module for working with JSON.\n",
    "import ast                          # Module for evaluating Python literal expressions.\n",
    "import re                           # Module for working with regular expressions.\n",
    "from textblob import TextBlob       # I import TextBlob from the textblob library.\n",
    "import nltk                         # Natural Language Toolkit.\n",
    "import csv                          # I import the CSV module into Python.\n",
    "\n",
    "'''Enable auto-reload of modules before executing a cell'''\n",
    "%load_ext autoreload\n",
    "%autoreload 2\n",
    "\n",
    "'''Import the warning module and set it to ignore all warnings'''\n",
    "import warnings\n",
    "warnings.filterwarnings(\"ignore\")"
   ]
  },
  {
   "cell_type": "code",
   "execution_count": 2,
   "metadata": {},
   "outputs": [
    {
     "data": {
      "text/html": [
       "<div>\n",
       "<style scoped>\n",
       "    .dataframe tbody tr th:only-of-type {\n",
       "        vertical-align: middle;\n",
       "    }\n",
       "\n",
       "    .dataframe tbody tr th {\n",
       "        vertical-align: top;\n",
       "    }\n",
       "\n",
       "    .dataframe thead th {\n",
       "        text-align: right;\n",
       "    }\n",
       "</style>\n",
       "<table border=\"1\" class=\"dataframe\">\n",
       "  <thead>\n",
       "    <tr style=\"text-align: right;\">\n",
       "      <th></th>\n",
       "      <th>user_id</th>\n",
       "      <th>user_url</th>\n",
       "      <th>reviews_item_id</th>\n",
       "      <th>reviews_helpful</th>\n",
       "      <th>reviews_recommend</th>\n",
       "      <th>reviews_review</th>\n",
       "      <th>reviews_date</th>\n",
       "    </tr>\n",
       "  </thead>\n",
       "  <tbody>\n",
       "    <tr>\n",
       "      <th>11011</th>\n",
       "      <td>Default_smile</td>\n",
       "      <td>http://steamcommunity.com/id/Default_smile</td>\n",
       "      <td>72850</td>\n",
       "      <td>No ratings yet</td>\n",
       "      <td>True</td>\n",
       "      <td>y r u reading just buy it</td>\n",
       "      <td>2015-06-25</td>\n",
       "    </tr>\n",
       "    <tr>\n",
       "      <th>22104</th>\n",
       "      <td>OfficalUberZ</td>\n",
       "      <td>http://steamcommunity.com/id/OfficalUberZ</td>\n",
       "      <td>227940</td>\n",
       "      <td>No ratings yet</td>\n",
       "      <td>False</td>\n",
       "      <td>it will not load up on the home screen so i ca...</td>\n",
       "      <td>2014-12-13</td>\n",
       "    </tr>\n",
       "    <tr>\n",
       "      <th>10035</th>\n",
       "      <td>Black_Dawn</td>\n",
       "      <td>http://steamcommunity.com/id/Black_Dawn</td>\n",
       "      <td>234530</td>\n",
       "      <td>3 of 8 people (38%) found this review helpful</td>\n",
       "      <td>True</td>\n",
       "      <td>yes</td>\n",
       "      <td>2013-12-06</td>\n",
       "    </tr>\n",
       "    <tr>\n",
       "      <th>538</th>\n",
       "      <td>carouserwhite</td>\n",
       "      <td>http://steamcommunity.com/id/carouserwhite</td>\n",
       "      <td>252490</td>\n",
       "      <td>0 of 3 people (0%) found this review helpful</td>\n",
       "      <td>True</td>\n",
       "      <td>This game is full of psychopath human hating p...</td>\n",
       "      <td>2014-06-14</td>\n",
       "    </tr>\n",
       "    <tr>\n",
       "      <th>4129</th>\n",
       "      <td>exploderguy</td>\n",
       "      <td>http://steamcommunity.com/id/exploderguy</td>\n",
       "      <td>236850</td>\n",
       "      <td>1 of 2 people (50%) found this review helpful</td>\n",
       "      <td>True</td>\n",
       "      <td>Played for 13 hours building the strongest emp...</td>\n",
       "      <td></td>\n",
       "    </tr>\n",
       "  </tbody>\n",
       "</table>\n",
       "</div>"
      ],
      "text/plain": [
       "             user_id                                    user_url  \\\n",
       "11011  Default_smile  http://steamcommunity.com/id/Default_smile   \n",
       "22104   OfficalUberZ   http://steamcommunity.com/id/OfficalUberZ   \n",
       "10035     Black_Dawn     http://steamcommunity.com/id/Black_Dawn   \n",
       "538    carouserwhite  http://steamcommunity.com/id/carouserwhite   \n",
       "4129     exploderguy    http://steamcommunity.com/id/exploderguy   \n",
       "\n",
       "      reviews_item_id                                reviews_helpful  \\\n",
       "11011           72850                                 No ratings yet   \n",
       "22104          227940                                 No ratings yet   \n",
       "10035          234530  3 of 8 people (38%) found this review helpful   \n",
       "538            252490   0 of 3 people (0%) found this review helpful   \n",
       "4129           236850  1 of 2 people (50%) found this review helpful   \n",
       "\n",
       "      reviews_recommend                                     reviews_review  \\\n",
       "11011              True                          y r u reading just buy it   \n",
       "22104             False  it will not load up on the home screen so i ca...   \n",
       "10035              True                                                yes   \n",
       "538                True  This game is full of psychopath human hating p...   \n",
       "4129               True  Played for 13 hours building the strongest emp...   \n",
       "\n",
       "      reviews_date  \n",
       "11011   2015-06-25  \n",
       "22104   2014-12-13  \n",
       "10035   2013-12-06  \n",
       "538     2014-06-14  \n",
       "4129                "
      ]
     },
     "execution_count": 2,
     "metadata": {},
     "output_type": "execute_result"
    }
   ],
   "source": [
    "'''We load our DataFrame to be able to work'''\n",
    "\n",
    "with open (r'C:\\\\Users\\\\migue\\\\Optimizing Recommender Systems with an Advanced MLOps Pipeline\\\\clean_dataset\\\\Australian_user_reviews_clean1.csv', 'r', encoding='utf-8') as file:\n",
    "    csv_file = csv.DictReader(file)\n",
    "    df_reviews = pd.DataFrame(csv_file)\n",
    "    \n",
    "    \n",
    "    \n",
    "df_reviews.sample(5)\n"
   ]
  },
  {
   "cell_type": "markdown",
   "metadata": {},
   "source": [
    "**1.2 Auxiliary Function.**"
   ]
  },
  {
   "cell_type": "markdown",
   "metadata": {},
   "source": [
    "**Sentiment Analysis Function.**  \n",
    "\n",
    "This feature provides a basic way to categorize the sentiment of a text into positive, negative, or neutral based on the polarity calculated by TextBlob"
   ]
  },
  {
   "cell_type": "code",
   "execution_count": 3,
   "metadata": {},
   "outputs": [],
   "source": [
    "def sentiment_analysis(review):                     # Check if the revision is None.\n",
    "    if review is None:                              # If yes, it returns 1, which could be interpreted as a neutral sentiment.\n",
    "        return 1\n",
    "    \n",
    "    analysis = TextBlob(review)                     # Creates an instanceof the TextBlob class with the provided revision.\n",
    "    polarity = analysis.sentiment.polarity          # Gets the sentiment polarity from the TextBlob analysis.\n",
    "    \n",
    "    if polarity < -0.2:                             # Compare polarity with thresholds to determine overall sentiment.\n",
    "        return 0                                    # If the polarity is less than -0.2, it is considered negative sentiment and 0 is returned.\n",
    "    \n",
    "    elif polarity > 0.2:                            # If the polarity is greater than 0.2, it is considered a positive sentiment and 2 is returned.\n",
    "        return 2\n",
    "    \n",
    "    else:                                           # In other cases, 1 is returned, which could be interpreted as a neutral sentiment.\n",
    "        return 1\n",
    "    \n",
    "     "
   ]
  },
  {
   "cell_type": "markdown",
   "metadata": {},
   "source": [
    "**Analysis of Sentiment Review Examples Function.**"
   ]
  },
  {
   "cell_type": "markdown",
   "metadata": {},
   "source": [
    "The 'example_review_by_sentiment' function is used to analize and present review examples classified according to their sentiments.  \n",
    "The function takes two lists as parameters: reviews, which contains the reviews, and sentiments, which contains the sentiment values ​​associated with each review.  \n",
    "\n",
    "0 Negative  \n",
    "1 Neutral  \n",
    "2 Positive  \n",
    "\n",
    "At the same time, it shows examples of reviews corresponding to each category.  \n",
    "For each category, the category number is printed and reviews that have that sentiment value are filtered out.  \n",
    "Then, the first three examples of reviews from that category are presented. \n",
    "\n"
   ]
  },
  {
   "cell_type": "code",
   "execution_count": 4,
   "metadata": {},
   "outputs": [],
   "source": [
    "def example_review_by_sentiment(reviews, sentiment):\n",
    "    for sentiment_value in range(3):\n",
    "        print(f'For the sentiment analysis category {sentiment_value} there are these examples of reviews: ')\n",
    "        sentiment_reviews = [review for review, sentiment in zip(reviews, sentiment) if sentiment == sentiment_value]\n",
    "        \n",
    "        for i, review in enumerate(sentiment_reviews[:3], start=1):\n",
    "            print(f'Review {i}: {review}')\n",
    "            \n",
    "        print('\\n')"
   ]
  },
  {
   "cell_type": "markdown",
   "metadata": {},
   "source": [
    "**1.3 Feature Engineering Australian_user_reviews_clean1.csv**"
   ]
  },
  {
   "cell_type": "code",
   "execution_count": 5,
   "metadata": {},
   "outputs": [
    {
     "data": {
      "text/html": [
       "<div>\n",
       "<style scoped>\n",
       "    .dataframe tbody tr th:only-of-type {\n",
       "        vertical-align: middle;\n",
       "    }\n",
       "\n",
       "    .dataframe tbody tr th {\n",
       "        vertical-align: top;\n",
       "    }\n",
       "\n",
       "    .dataframe thead th {\n",
       "        text-align: right;\n",
       "    }\n",
       "</style>\n",
       "<table border=\"1\" class=\"dataframe\">\n",
       "  <thead>\n",
       "    <tr style=\"text-align: right;\">\n",
       "      <th></th>\n",
       "      <th>user_id</th>\n",
       "      <th>user_url</th>\n",
       "      <th>reviews_item_id</th>\n",
       "      <th>reviews_helpful</th>\n",
       "      <th>reviews_recommend</th>\n",
       "      <th>reviews_review</th>\n",
       "      <th>reviews_date</th>\n",
       "      <th>sentiment_analysis</th>\n",
       "    </tr>\n",
       "  </thead>\n",
       "  <tbody>\n",
       "    <tr>\n",
       "      <th>0</th>\n",
       "      <td>76561197970982479</td>\n",
       "      <td>http://steamcommunity.com/profiles/76561197970...</td>\n",
       "      <td>1250</td>\n",
       "      <td>No ratings yet</td>\n",
       "      <td>True</td>\n",
       "      <td>Simple yet with great replayability. In my opi...</td>\n",
       "      <td>2011-11-05</td>\n",
       "      <td>1</td>\n",
       "    </tr>\n",
       "    <tr>\n",
       "      <th>1</th>\n",
       "      <td>js41637</td>\n",
       "      <td>http://steamcommunity.com/id/js41637</td>\n",
       "      <td>251610</td>\n",
       "      <td>15 of 20 people (75%) found this review helpful</td>\n",
       "      <td>True</td>\n",
       "      <td>I know what you think when you see this title ...</td>\n",
       "      <td>2014-06-24</td>\n",
       "      <td>1</td>\n",
       "    </tr>\n",
       "    <tr>\n",
       "      <th>2</th>\n",
       "      <td>evcentric</td>\n",
       "      <td>http://steamcommunity.com/id/evcentric</td>\n",
       "      <td>248820</td>\n",
       "      <td>No ratings yet</td>\n",
       "      <td>True</td>\n",
       "      <td>A suitably punishing roguelike platformer.  Wi...</td>\n",
       "      <td></td>\n",
       "      <td>2</td>\n",
       "    </tr>\n",
       "    <tr>\n",
       "      <th>3</th>\n",
       "      <td>doctr</td>\n",
       "      <td>http://steamcommunity.com/id/doctr</td>\n",
       "      <td>250320</td>\n",
       "      <td>2 of 2 people (100%) found this review helpful</td>\n",
       "      <td>True</td>\n",
       "      <td>This game... is so fun. The fight sequences ha...</td>\n",
       "      <td>2013-10-14</td>\n",
       "      <td>2</td>\n",
       "    </tr>\n",
       "    <tr>\n",
       "      <th>4</th>\n",
       "      <td>maplemage</td>\n",
       "      <td>http://steamcommunity.com/id/maplemage</td>\n",
       "      <td>211420</td>\n",
       "      <td>35 of 43 people (81%) found this review helpful</td>\n",
       "      <td>True</td>\n",
       "      <td>Git gud</td>\n",
       "      <td>2014-04-15</td>\n",
       "      <td>1</td>\n",
       "    </tr>\n",
       "  </tbody>\n",
       "</table>\n",
       "</div>"
      ],
      "text/plain": [
       "             user_id                                           user_url  \\\n",
       "0  76561197970982479  http://steamcommunity.com/profiles/76561197970...   \n",
       "1            js41637               http://steamcommunity.com/id/js41637   \n",
       "2          evcentric             http://steamcommunity.com/id/evcentric   \n",
       "3              doctr                 http://steamcommunity.com/id/doctr   \n",
       "4          maplemage             http://steamcommunity.com/id/maplemage   \n",
       "\n",
       "  reviews_item_id                                  reviews_helpful  \\\n",
       "0            1250                                   No ratings yet   \n",
       "1          251610  15 of 20 people (75%) found this review helpful   \n",
       "2          248820                                   No ratings yet   \n",
       "3          250320   2 of 2 people (100%) found this review helpful   \n",
       "4          211420  35 of 43 people (81%) found this review helpful   \n",
       "\n",
       "  reviews_recommend                                     reviews_review  \\\n",
       "0              True  Simple yet with great replayability. In my opi...   \n",
       "1              True  I know what you think when you see this title ...   \n",
       "2              True  A suitably punishing roguelike platformer.  Wi...   \n",
       "3              True  This game... is so fun. The fight sequences ha...   \n",
       "4              True                                            Git gud   \n",
       "\n",
       "  reviews_date  sentiment_analysis  \n",
       "0   2011-11-05                   1  \n",
       "1   2014-06-24                   1  \n",
       "2                                2  \n",
       "3   2013-10-14                   2  \n",
       "4   2014-04-15                   1  "
      ]
     },
     "execution_count": 5,
     "metadata": {},
     "output_type": "execute_result"
    }
   ],
   "source": [
    "df_reviews['sentiment_analysis'] = df_reviews['reviews_review'].apply(sentiment_analysis)\n",
    "df_reviews.head()"
   ]
  },
  {
   "cell_type": "markdown",
   "metadata": {},
   "source": [
    "Let's look at some examples.  "
   ]
  },
  {
   "cell_type": "code",
   "execution_count": 6,
   "metadata": {},
   "outputs": [
    {
     "name": "stdout",
     "output_type": "stream",
     "text": [
      "For the sentiment analysis category 0 there are these examples of reviews: \n",
      "Review 1: This game is Marvellous.\n",
      "Review 2: Killed the Emperor, nobody cared and got away with it. Accidentally killed a chicken and everybody decided to gang up on me. 10/10\n",
      "Review 3: This Game Doesn't Work\n",
      "\n",
      "\n",
      "For the sentiment analysis category 1 there are these examples of reviews: \n",
      "Review 1: Simple yet with great replayability. In my opinion does \"zombie\" hordes and team work better than left 4 dead plus has a global leveling system. Alot of down to earth \"zombie\" splattering fun for the whole family. Amazed this sort of FPS is so rare.\n",
      "Review 2: I know what you think when you see this title \"Barbie Dreamhouse Party\" but do not be intimidated by it's title, this is easily one of my GOTYs. You don't get any of that cliche game mechanics that all the latest games have, this is simply good core gameplay. Yes, you can't 360 noscope your friends, but what you can do is show them up with your bad ♥♥♥ dance moves and put them to shame as you show them what true fashion and color combinations are.I know this game says for kids but, this is easily for any age range and any age will have a blast playing this.8/8\n",
      "Review 3: Git gud\n",
      "\n",
      "\n",
      "For the sentiment analysis category 2 there are these examples of reviews: \n",
      "Review 1: A suitably punishing roguelike platformer.  Winning feels good.  Progressive unlocks mean a good slog ending in failure doesn't feel like a waste.\n",
      "Review 2: This game... is so fun. The fight sequences have been improved from walking dead. It also includes more of a Sam and Max puzzle solving (some of it in the first episode) and walking dead. The game also gets even more better if you have read the Fables comic books, which are without a doubt, very good. The music is also superb and fit the scenarios very well.\n",
      "Review 3: love it\n",
      "\n",
      "\n"
     ]
    }
   ],
   "source": [
    "example_review_by_sentiment(df_reviews['reviews_review'], df_reviews['sentiment_analysis'])"
   ]
  },
  {
   "cell_type": "markdown",
   "metadata": {},
   "source": [
    "We delete the 'reviews_review' column."
   ]
  },
  {
   "cell_type": "code",
   "execution_count": 7,
   "metadata": {},
   "outputs": [
    {
     "data": {
      "text/html": [
       "<div>\n",
       "<style scoped>\n",
       "    .dataframe tbody tr th:only-of-type {\n",
       "        vertical-align: middle;\n",
       "    }\n",
       "\n",
       "    .dataframe tbody tr th {\n",
       "        vertical-align: top;\n",
       "    }\n",
       "\n",
       "    .dataframe thead th {\n",
       "        text-align: right;\n",
       "    }\n",
       "</style>\n",
       "<table border=\"1\" class=\"dataframe\">\n",
       "  <thead>\n",
       "    <tr style=\"text-align: right;\">\n",
       "      <th></th>\n",
       "      <th>user_id</th>\n",
       "      <th>user_url</th>\n",
       "      <th>reviews_item_id</th>\n",
       "      <th>reviews_helpful</th>\n",
       "      <th>reviews_recommend</th>\n",
       "      <th>reviews_date</th>\n",
       "      <th>sentiment_analysis</th>\n",
       "    </tr>\n",
       "  </thead>\n",
       "  <tbody>\n",
       "    <tr>\n",
       "      <th>48306</th>\n",
       "      <td>meZulu</td>\n",
       "      <td>http://steamcommunity.com/id/meZulu</td>\n",
       "      <td>8850</td>\n",
       "      <td>No ratings yet</td>\n",
       "      <td>True</td>\n",
       "      <td>2012-09-21</td>\n",
       "      <td>2</td>\n",
       "    </tr>\n",
       "    <tr>\n",
       "      <th>46066</th>\n",
       "      <td>chanonth1</td>\n",
       "      <td>http://steamcommunity.com/id/chanonth1</td>\n",
       "      <td>354290</td>\n",
       "      <td>8 of 16 people (50%) found this review helpful</td>\n",
       "      <td>True</td>\n",
       "      <td></td>\n",
       "      <td>1</td>\n",
       "    </tr>\n",
       "    <tr>\n",
       "      <th>51601</th>\n",
       "      <td>76561198056014188</td>\n",
       "      <td>http://steamcommunity.com/profiles/76561198056...</td>\n",
       "      <td>570</td>\n",
       "      <td>No ratings yet</td>\n",
       "      <td>True</td>\n",
       "      <td>2015-07-18</td>\n",
       "      <td>1</td>\n",
       "    </tr>\n",
       "    <tr>\n",
       "      <th>25540</th>\n",
       "      <td>Dragoten</td>\n",
       "      <td>http://steamcommunity.com/id/Dragoten</td>\n",
       "      <td>35720</td>\n",
       "      <td>1 of 1 people (100%) found this review helpful</td>\n",
       "      <td>True</td>\n",
       "      <td>2013-12-29</td>\n",
       "      <td>2</td>\n",
       "    </tr>\n",
       "    <tr>\n",
       "      <th>24407</th>\n",
       "      <td>ultimategamerbr101</td>\n",
       "      <td>http://steamcommunity.com/id/ultimategamerbr101</td>\n",
       "      <td>440</td>\n",
       "      <td>No ratings yet</td>\n",
       "      <td>True</td>\n",
       "      <td>2014-04-22</td>\n",
       "      <td>2</td>\n",
       "    </tr>\n",
       "  </tbody>\n",
       "</table>\n",
       "</div>"
      ],
      "text/plain": [
       "                  user_id                                           user_url  \\\n",
       "48306              meZulu                http://steamcommunity.com/id/meZulu   \n",
       "46066           chanonth1             http://steamcommunity.com/id/chanonth1   \n",
       "51601   76561198056014188  http://steamcommunity.com/profiles/76561198056...   \n",
       "25540            Dragoten              http://steamcommunity.com/id/Dragoten   \n",
       "24407  ultimategamerbr101    http://steamcommunity.com/id/ultimategamerbr101   \n",
       "\n",
       "      reviews_item_id                                 reviews_helpful  \\\n",
       "48306            8850                                  No ratings yet   \n",
       "46066          354290  8 of 16 people (50%) found this review helpful   \n",
       "51601             570                                  No ratings yet   \n",
       "25540           35720  1 of 1 people (100%) found this review helpful   \n",
       "24407             440                                  No ratings yet   \n",
       "\n",
       "      reviews_recommend reviews_date  sentiment_analysis  \n",
       "48306              True   2012-09-21                   2  \n",
       "46066              True                                1  \n",
       "51601              True   2015-07-18                   1  \n",
       "25540              True   2013-12-29                   2  \n",
       "24407              True   2014-04-22                   2  "
      ]
     },
     "execution_count": 7,
     "metadata": {},
     "output_type": "execute_result"
    }
   ],
   "source": [
    "df_reviews = df_reviews.drop('reviews_review', axis=1)\n",
    "df_reviews.sample(5)"
   ]
  },
  {
   "cell_type": "markdown",
   "metadata": {},
   "source": [
    "We save the file."
   ]
  },
  {
   "cell_type": "code",
   "execution_count": 8,
   "metadata": {},
   "outputs": [
    {
     "name": "stdout",
     "output_type": "stream",
     "text": [
      "The file was successfully saved\n"
     ]
    }
   ],
   "source": [
    "'''Especify the directory path and the CSV file name.'''\n",
    "\n",
    "directory = 'C:\\\\Users\\\\migue\\\\Optimizing Recommender Systems with an Advanced MLOps Pipeline\\\\clean_dataset'\n",
    "file_name = 'Australian_user_reviews_clean1.csv'\n",
    "full_path = f'{directory}/{file_name}'\n",
    "\n",
    "\n",
    "df_reviews.to_csv(full_path, index=False)\n",
    "\n",
    "print(f'The file was successfully saved')"
   ]
  }
 ],
 "metadata": {
  "kernelspec": {
   "display_name": "Python 3",
   "language": "python",
   "name": "python3"
  },
  "language_info": {
   "codemirror_mode": {
    "name": "ipython",
    "version": 3
   },
   "file_extension": ".py",
   "mimetype": "text/x-python",
   "name": "python",
   "nbconvert_exporter": "python",
   "pygments_lexer": "ipython3",
   "version": "3.10.8"
  }
 },
 "nbformat": 4,
 "nbformat_minor": 2
}
