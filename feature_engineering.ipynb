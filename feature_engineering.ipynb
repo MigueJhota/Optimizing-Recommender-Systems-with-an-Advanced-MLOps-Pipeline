{
 "cells": [
  {
   "cell_type": "markdown",
   "metadata": {},
   "source": [
    "**1. Feature Engineering**"
   ]
  },
  {
   "cell_type": "markdown",
   "metadata": {},
   "source": [
    "**1.1 Import the required libraries.**"
   ]
  },
  {
   "cell_type": "code",
   "execution_count": 13,
   "metadata": {},
   "outputs": [
    {
     "name": "stdout",
     "output_type": "stream",
     "text": [
      "The autoreload extension is already loaded. To reload it, use:\n",
      "  %reload_ext autoreload\n"
     ]
    }
   ],
   "source": [
    "'''Necessary libraries.'''\n",
    "import pandas as pd                 # Pandas for tabular data manipulation.\n",
    "import json                         # Module for working with JSON.\n",
    "import ast                          # Module for evaluating Python literal expressions.\n",
    "import re                           # Module for working with regular expressions.\n",
    "from textblob import TextBlob       # I import TextBlob from the textblob library.\n",
    "import nltk                         # Natural Language Toolkit.\n",
    "import csv                          # I import the CSV module into Python.\n",
    "\n",
    "'''Enable auto-reload of modules before executing a cell'''\n",
    "%load_ext autoreload\n",
    "%autoreload 2\n",
    "\n",
    "'''Import the warning module and set it to ignore all warnings'''\n",
    "import warnings\n",
    "warnings.filterwarnings(\"ignore\")"
   ]
  },
  {
   "cell_type": "code",
   "execution_count": 14,
   "metadata": {},
   "outputs": [
    {
     "data": {
      "text/html": [
       "<div>\n",
       "<style scoped>\n",
       "    .dataframe tbody tr th:only-of-type {\n",
       "        vertical-align: middle;\n",
       "    }\n",
       "\n",
       "    .dataframe tbody tr th {\n",
       "        vertical-align: top;\n",
       "    }\n",
       "\n",
       "    .dataframe thead th {\n",
       "        text-align: right;\n",
       "    }\n",
       "</style>\n",
       "<table border=\"1\" class=\"dataframe\">\n",
       "  <thead>\n",
       "    <tr style=\"text-align: right;\">\n",
       "      <th></th>\n",
       "      <th>user_id</th>\n",
       "      <th>user_url</th>\n",
       "      <th>reviews_item_id</th>\n",
       "      <th>reviews_helpful</th>\n",
       "      <th>reviews_recommend</th>\n",
       "      <th>reviews_review</th>\n",
       "      <th>reviews_date</th>\n",
       "    </tr>\n",
       "  </thead>\n",
       "  <tbody>\n",
       "    <tr>\n",
       "      <th>6064</th>\n",
       "      <td>76561198068809841</td>\n",
       "      <td>http://steamcommunity.com/profiles/76561198068...</td>\n",
       "      <td>440</td>\n",
       "      <td>0 of 3 people (0%) found this review helpful</td>\n",
       "      <td>False</td>\n",
       "      <td>random crits will constantly make you quit the...</td>\n",
       "      <td>Invalid format</td>\n",
       "    </tr>\n",
       "    <tr>\n",
       "      <th>17667</th>\n",
       "      <td>Zejus</td>\n",
       "      <td>http://steamcommunity.com/id/Zejus</td>\n",
       "      <td>730</td>\n",
       "      <td>2 of 2 people (100%) found this review helpful</td>\n",
       "      <td>True</td>\n",
       "      <td>CS:GO &lt;3</td>\n",
       "      <td>13-12-29</td>\n",
       "    </tr>\n",
       "    <tr>\n",
       "      <th>1730</th>\n",
       "      <td>76561198076271594</td>\n",
       "      <td>http://steamcommunity.com/profiles/76561198076...</td>\n",
       "      <td>4780</td>\n",
       "      <td>No ratings yet</td>\n",
       "      <td>True</td>\n",
       "      <td>Medieval II: Total War™ Kingdoms is a turn bas...</td>\n",
       "      <td>14-01-12</td>\n",
       "    </tr>\n",
       "    <tr>\n",
       "      <th>44818</th>\n",
       "      <td>76561198067546287</td>\n",
       "      <td>http://steamcommunity.com/profiles/76561198067...</td>\n",
       "      <td>218230</td>\n",
       "      <td>No ratings yet</td>\n",
       "      <td>True</td>\n",
       "      <td>one word. epic</td>\n",
       "      <td>13-01-10</td>\n",
       "    </tr>\n",
       "    <tr>\n",
       "      <th>45554</th>\n",
       "      <td>76561198066026014</td>\n",
       "      <td>http://steamcommunity.com/profiles/76561198066...</td>\n",
       "      <td>105600</td>\n",
       "      <td>No ratings yet</td>\n",
       "      <td>True</td>\n",
       "      <td>This game is love, and this game is lifeIf thi...</td>\n",
       "      <td>15-06-21</td>\n",
       "    </tr>\n",
       "  </tbody>\n",
       "</table>\n",
       "</div>"
      ],
      "text/plain": [
       "                 user_id                                           user_url  \\\n",
       "6064   76561198068809841  http://steamcommunity.com/profiles/76561198068...   \n",
       "17667              Zejus                 http://steamcommunity.com/id/Zejus   \n",
       "1730   76561198076271594  http://steamcommunity.com/profiles/76561198076...   \n",
       "44818  76561198067546287  http://steamcommunity.com/profiles/76561198067...   \n",
       "45554  76561198066026014  http://steamcommunity.com/profiles/76561198066...   \n",
       "\n",
       "      reviews_item_id                                 reviews_helpful  \\\n",
       "6064              440    0 of 3 people (0%) found this review helpful   \n",
       "17667             730  2 of 2 people (100%) found this review helpful   \n",
       "1730             4780                                  No ratings yet   \n",
       "44818          218230                                  No ratings yet   \n",
       "45554          105600                                  No ratings yet   \n",
       "\n",
       "      reviews_recommend                                     reviews_review  \\\n",
       "6064              False  random crits will constantly make you quit the...   \n",
       "17667              True                                           CS:GO <3   \n",
       "1730               True  Medieval II: Total War™ Kingdoms is a turn bas...   \n",
       "44818              True                                     one word. epic   \n",
       "45554              True  This game is love, and this game is lifeIf thi...   \n",
       "\n",
       "         reviews_date  \n",
       "6064   Invalid format  \n",
       "17667        13-12-29  \n",
       "1730         14-01-12  \n",
       "44818        13-01-10  \n",
       "45554        15-06-21  "
      ]
     },
     "execution_count": 14,
     "metadata": {},
     "output_type": "execute_result"
    }
   ],
   "source": [
    "'''We load our DataFrame to be able to work'''\n",
    "\n",
    "with open (r'C:\\\\Users\\\\migue\\\\Optimizing Recommender Systems with an Advanced MLOps Pipeline\\\\clean_dataset\\\\Australian_user_reviews_clean1.csv', 'r', encoding='utf-8') as file:\n",
    "    csv_file = csv.DictReader(file)\n",
    "    df_reviews = pd.DataFrame(csv_file)\n",
    "    \n",
    "    \n",
    "    \n",
    "df_reviews.sample(5)\n"
   ]
  },
  {
   "cell_type": "markdown",
   "metadata": {},
   "source": [
    "**1.2 Auxiliary Function.**"
   ]
  },
  {
   "cell_type": "markdown",
   "metadata": {},
   "source": [
    "**Sentiment Analysis Function.**  \n",
    "\n",
    "This feature provides a basic way to categorize the sentiment of a text into positive, negative, or neutral based on the polarity calculated by TextBlob"
   ]
  },
  {
   "cell_type": "code",
   "execution_count": 15,
   "metadata": {},
   "outputs": [],
   "source": [
    "def sentiment_analysis(review):                     # Check if the revision is None.\n",
    "    if review is None:                              # If yes, it returns 1, which could be interpreted as a neutral sentiment.\n",
    "        return 1\n",
    "    \n",
    "    analysis = TextBlob(review)                     # Creates an instanceof the TextBlob class with the provided revision.\n",
    "    polarity = analysis.sentiment.polarity          # Gets the sentiment polarity from the TextBlob analysis.\n",
    "    \n",
    "    if polarity < -0.2:                             # Compare polarity with thresholds to determine overall sentiment.\n",
    "        return 0                                    # If the polarity is less than -0.2, it is considered negative sentiment and 0 is returned.\n",
    "    \n",
    "    elif polarity > 0.2:                            # If the polarity is greater than 0.2, it is considered a positive sentiment and 2 is returned.\n",
    "        return 2\n",
    "    \n",
    "    else:                                           # In other cases, 1 is returned, which could be interpreted as a neutral sentiment.\n",
    "        return 1\n",
    "    \n",
    "     "
   ]
  },
  {
   "cell_type": "markdown",
   "metadata": {},
   "source": [
    "**Analysis of Sentiment Review Examples Function.**"
   ]
  },
  {
   "cell_type": "markdown",
   "metadata": {},
   "source": [
    "The 'example_review_by_sentiment' function is used to analize and present review examples classified according to their sentiments.  \n",
    "The function takes two lists as parameters: reviews, which contains the reviews, and sentiments, which contains the sentiment values ​​associated with each review.  \n",
    "\n",
    "0 Negative  \n",
    "1 Neutral  \n",
    "2 Positive  \n",
    "\n",
    "At the same time, it shows examples of reviews corresponding to each category.  \n",
    "For each category, the category number is printed and reviews that have that sentiment value are filtered out.  \n",
    "Then, the first three examples of reviews from that category are presented. \n",
    "\n"
   ]
  },
  {
   "cell_type": "code",
   "execution_count": 17,
   "metadata": {},
   "outputs": [],
   "source": [
    "def example_review_by_sentiment(reviews, sentiment):\n",
    "    for sentiment_value in range(3):\n",
    "        print(f'For the sentiment analysis category {sentiment_value} there are these examples of reviews: ')\n",
    "        sentiment_reviews = [review for review, sentiment in zip(reviews, sentiment) if sentiment == sentiment_value]\n",
    "        \n",
    "        for i, review in enumerate(sentiment_reviews[:3], start=1):\n",
    "            print(f'Review {i}: {review}')\n",
    "            \n",
    "        print('\\n')"
   ]
  },
  {
   "cell_type": "markdown",
   "metadata": {},
   "source": [
    "**1.3 Feature Engineering Australian_user_reviews_clean1.csv**"
   ]
  },
  {
   "cell_type": "code",
   "execution_count": 16,
   "metadata": {},
   "outputs": [
    {
     "data": {
      "text/html": [
       "<div>\n",
       "<style scoped>\n",
       "    .dataframe tbody tr th:only-of-type {\n",
       "        vertical-align: middle;\n",
       "    }\n",
       "\n",
       "    .dataframe tbody tr th {\n",
       "        vertical-align: top;\n",
       "    }\n",
       "\n",
       "    .dataframe thead th {\n",
       "        text-align: right;\n",
       "    }\n",
       "</style>\n",
       "<table border=\"1\" class=\"dataframe\">\n",
       "  <thead>\n",
       "    <tr style=\"text-align: right;\">\n",
       "      <th></th>\n",
       "      <th>user_id</th>\n",
       "      <th>user_url</th>\n",
       "      <th>reviews_item_id</th>\n",
       "      <th>reviews_helpful</th>\n",
       "      <th>reviews_recommend</th>\n",
       "      <th>reviews_review</th>\n",
       "      <th>reviews_date</th>\n",
       "      <th>sentiment_analysis</th>\n",
       "    </tr>\n",
       "  </thead>\n",
       "  <tbody>\n",
       "    <tr>\n",
       "      <th>0</th>\n",
       "      <td>76561197970982479</td>\n",
       "      <td>http://steamcommunity.com/profiles/76561197970...</td>\n",
       "      <td>1250</td>\n",
       "      <td>No ratings yet</td>\n",
       "      <td>True</td>\n",
       "      <td>Simple yet with great replayability. In my opi...</td>\n",
       "      <td>11-11-05</td>\n",
       "      <td>1</td>\n",
       "    </tr>\n",
       "    <tr>\n",
       "      <th>1</th>\n",
       "      <td>js41637</td>\n",
       "      <td>http://steamcommunity.com/id/js41637</td>\n",
       "      <td>251610</td>\n",
       "      <td>15 of 20 people (75%) found this review helpful</td>\n",
       "      <td>True</td>\n",
       "      <td>I know what you think when you see this title ...</td>\n",
       "      <td>14-06-24</td>\n",
       "      <td>1</td>\n",
       "    </tr>\n",
       "    <tr>\n",
       "      <th>2</th>\n",
       "      <td>evcentric</td>\n",
       "      <td>http://steamcommunity.com/id/evcentric</td>\n",
       "      <td>248820</td>\n",
       "      <td>No ratings yet</td>\n",
       "      <td>True</td>\n",
       "      <td>A suitably punishing roguelike platformer.  Wi...</td>\n",
       "      <td>Invalid format</td>\n",
       "      <td>2</td>\n",
       "    </tr>\n",
       "    <tr>\n",
       "      <th>3</th>\n",
       "      <td>doctr</td>\n",
       "      <td>http://steamcommunity.com/id/doctr</td>\n",
       "      <td>250320</td>\n",
       "      <td>2 of 2 people (100%) found this review helpful</td>\n",
       "      <td>True</td>\n",
       "      <td>This game... is so fun. The fight sequences ha...</td>\n",
       "      <td>13-10-14</td>\n",
       "      <td>2</td>\n",
       "    </tr>\n",
       "    <tr>\n",
       "      <th>4</th>\n",
       "      <td>maplemage</td>\n",
       "      <td>http://steamcommunity.com/id/maplemage</td>\n",
       "      <td>211420</td>\n",
       "      <td>35 of 43 people (81%) found this review helpful</td>\n",
       "      <td>True</td>\n",
       "      <td>Git gud</td>\n",
       "      <td>14-04-15</td>\n",
       "      <td>1</td>\n",
       "    </tr>\n",
       "  </tbody>\n",
       "</table>\n",
       "</div>"
      ],
      "text/plain": [
       "             user_id                                           user_url  \\\n",
       "0  76561197970982479  http://steamcommunity.com/profiles/76561197970...   \n",
       "1            js41637               http://steamcommunity.com/id/js41637   \n",
       "2          evcentric             http://steamcommunity.com/id/evcentric   \n",
       "3              doctr                 http://steamcommunity.com/id/doctr   \n",
       "4          maplemage             http://steamcommunity.com/id/maplemage   \n",
       "\n",
       "  reviews_item_id                                  reviews_helpful  \\\n",
       "0            1250                                   No ratings yet   \n",
       "1          251610  15 of 20 people (75%) found this review helpful   \n",
       "2          248820                                   No ratings yet   \n",
       "3          250320   2 of 2 people (100%) found this review helpful   \n",
       "4          211420  35 of 43 people (81%) found this review helpful   \n",
       "\n",
       "  reviews_recommend                                     reviews_review  \\\n",
       "0              True  Simple yet with great replayability. In my opi...   \n",
       "1              True  I know what you think when you see this title ...   \n",
       "2              True  A suitably punishing roguelike platformer.  Wi...   \n",
       "3              True  This game... is so fun. The fight sequences ha...   \n",
       "4              True                                            Git gud   \n",
       "\n",
       "     reviews_date  sentiment_analysis  \n",
       "0        11-11-05                   1  \n",
       "1        14-06-24                   1  \n",
       "2  Invalid format                   2  \n",
       "3        13-10-14                   2  \n",
       "4        14-04-15                   1  "
      ]
     },
     "execution_count": 16,
     "metadata": {},
     "output_type": "execute_result"
    }
   ],
   "source": [
    "df_reviews['sentiment_analysis'] = df_reviews['reviews_review'].apply(sentiment_analysis)\n",
    "df_reviews.head()"
   ]
  },
  {
   "cell_type": "markdown",
   "metadata": {},
   "source": [
    "Let's look at some examples.  "
   ]
  },
  {
   "cell_type": "code",
   "execution_count": 19,
   "metadata": {},
   "outputs": [
    {
     "name": "stdout",
     "output_type": "stream",
     "text": [
      "For the sentiment analysis category 0 there are these examples of reviews: \n",
      "Review 1: This game is Marvellous.\n",
      "Review 2: Killed the Emperor, nobody cared and got away with it. Accidentally killed a chicken and everybody decided to gang up on me. 10/10\n",
      "Review 3: This Game Doesn't Work\n",
      "\n",
      "\n",
      "For the sentiment analysis category 1 there are these examples of reviews: \n",
      "Review 1: Simple yet with great replayability. In my opinion does \"zombie\" hordes and team work better than left 4 dead plus has a global leveling system. Alot of down to earth \"zombie\" splattering fun for the whole family. Amazed this sort of FPS is so rare.\n",
      "Review 2: I know what you think when you see this title \"Barbie Dreamhouse Party\" but do not be intimidated by it's title, this is easily one of my GOTYs. You don't get any of that cliche game mechanics that all the latest games have, this is simply good core gameplay. Yes, you can't 360 noscope your friends, but what you can do is show them up with your bad ♥♥♥ dance moves and put them to shame as you show them what true fashion and color combinations are.I know this game says for kids but, this is easily for any age range and any age will have a blast playing this.8/8\n",
      "Review 3: Git gud\n",
      "\n",
      "\n",
      "For the sentiment analysis category 2 there are these examples of reviews: \n",
      "Review 1: A suitably punishing roguelike platformer.  Winning feels good.  Progressive unlocks mean a good slog ending in failure doesn't feel like a waste.\n",
      "Review 2: This game... is so fun. The fight sequences have been improved from walking dead. It also includes more of a Sam and Max puzzle solving (some of it in the first episode) and walking dead. The game also gets even more better if you have read the Fables comic books, which are without a doubt, very good. The music is also superb and fit the scenarios very well.\n",
      "Review 3: love it\n",
      "\n",
      "\n"
     ]
    }
   ],
   "source": [
    "example_review_by_sentiment(df_reviews['reviews_review'], df_reviews['sentiment_analysis'])"
   ]
  },
  {
   "cell_type": "markdown",
   "metadata": {},
   "source": [
    "We delete the 'reviews_review' column."
   ]
  },
  {
   "cell_type": "code",
   "execution_count": 20,
   "metadata": {},
   "outputs": [
    {
     "data": {
      "text/html": [
       "<div>\n",
       "<style scoped>\n",
       "    .dataframe tbody tr th:only-of-type {\n",
       "        vertical-align: middle;\n",
       "    }\n",
       "\n",
       "    .dataframe tbody tr th {\n",
       "        vertical-align: top;\n",
       "    }\n",
       "\n",
       "    .dataframe thead th {\n",
       "        text-align: right;\n",
       "    }\n",
       "</style>\n",
       "<table border=\"1\" class=\"dataframe\">\n",
       "  <thead>\n",
       "    <tr style=\"text-align: right;\">\n",
       "      <th></th>\n",
       "      <th>user_id</th>\n",
       "      <th>user_url</th>\n",
       "      <th>reviews_item_id</th>\n",
       "      <th>reviews_helpful</th>\n",
       "      <th>reviews_recommend</th>\n",
       "      <th>reviews_date</th>\n",
       "      <th>sentiment_analysis</th>\n",
       "    </tr>\n",
       "  </thead>\n",
       "  <tbody>\n",
       "    <tr>\n",
       "      <th>54279</th>\n",
       "      <td>Nozomikat</td>\n",
       "      <td>http://steamcommunity.com/id/Nozomikat</td>\n",
       "      <td>437220</td>\n",
       "      <td>7 of 13 people (54%) found this review helpful</td>\n",
       "      <td>False</td>\n",
       "      <td>Invalid format</td>\n",
       "      <td>1</td>\n",
       "    </tr>\n",
       "    <tr>\n",
       "      <th>1318</th>\n",
       "      <td>kk_kyser</td>\n",
       "      <td>http://steamcommunity.com/id/kk_kyser</td>\n",
       "      <td>4000</td>\n",
       "      <td>1 of 1 people (100%) found this review helpful</td>\n",
       "      <td>True</td>\n",
       "      <td>13-12-15</td>\n",
       "      <td>1</td>\n",
       "    </tr>\n",
       "    <tr>\n",
       "      <th>14947</th>\n",
       "      <td>PogiGwaps</td>\n",
       "      <td>http://steamcommunity.com/id/PogiGwaps</td>\n",
       "      <td>383870</td>\n",
       "      <td>1 of 2 people (50%) found this review helpful</td>\n",
       "      <td>True</td>\n",
       "      <td>Invalid format</td>\n",
       "      <td>1</td>\n",
       "    </tr>\n",
       "    <tr>\n",
       "      <th>3480</th>\n",
       "      <td>76561198061650250</td>\n",
       "      <td>http://steamcommunity.com/profiles/76561198061...</td>\n",
       "      <td>233610</td>\n",
       "      <td>1 of 1 people (100%) found this review helpful</td>\n",
       "      <td>True</td>\n",
       "      <td>15-11-02</td>\n",
       "      <td>2</td>\n",
       "    </tr>\n",
       "    <tr>\n",
       "      <th>50812</th>\n",
       "      <td>76561198074519984</td>\n",
       "      <td>http://steamcommunity.com/profiles/76561198074...</td>\n",
       "      <td>244850</td>\n",
       "      <td>0 of 2 people (0%) found this review helpful</td>\n",
       "      <td>True</td>\n",
       "      <td>14-07-02</td>\n",
       "      <td>1</td>\n",
       "    </tr>\n",
       "  </tbody>\n",
       "</table>\n",
       "</div>"
      ],
      "text/plain": [
       "                 user_id                                           user_url  \\\n",
       "54279          Nozomikat             http://steamcommunity.com/id/Nozomikat   \n",
       "1318            kk_kyser              http://steamcommunity.com/id/kk_kyser   \n",
       "14947          PogiGwaps             http://steamcommunity.com/id/PogiGwaps   \n",
       "3480   76561198061650250  http://steamcommunity.com/profiles/76561198061...   \n",
       "50812  76561198074519984  http://steamcommunity.com/profiles/76561198074...   \n",
       "\n",
       "      reviews_item_id                                 reviews_helpful  \\\n",
       "54279          437220  7 of 13 people (54%) found this review helpful   \n",
       "1318             4000  1 of 1 people (100%) found this review helpful   \n",
       "14947          383870   1 of 2 people (50%) found this review helpful   \n",
       "3480           233610  1 of 1 people (100%) found this review helpful   \n",
       "50812          244850    0 of 2 people (0%) found this review helpful   \n",
       "\n",
       "      reviews_recommend    reviews_date  sentiment_analysis  \n",
       "54279             False  Invalid format                   1  \n",
       "1318               True        13-12-15                   1  \n",
       "14947              True  Invalid format                   1  \n",
       "3480               True        15-11-02                   2  \n",
       "50812              True        14-07-02                   1  "
      ]
     },
     "execution_count": 20,
     "metadata": {},
     "output_type": "execute_result"
    }
   ],
   "source": [
    "df_reviews = df_reviews.drop('reviews_review', axis=1)\n",
    "df_reviews.sample(5)"
   ]
  },
  {
   "cell_type": "markdown",
   "metadata": {},
   "source": [
    "We save the file."
   ]
  },
  {
   "cell_type": "code",
   "execution_count": 21,
   "metadata": {},
   "outputs": [
    {
     "name": "stdout",
     "output_type": "stream",
     "text": [
      "The file was successfully saved\n"
     ]
    }
   ],
   "source": [
    "'''Especify the directory path and the CSV file name.'''\n",
    "\n",
    "directory = 'C:\\\\Users\\\\migue\\\\Optimizing Recommender Systems with an Advanced MLOps Pipeline\\\\clean_dataset'\n",
    "file_name = 'Australian_user_reviews_clean1.csv'\n",
    "full_path = f'{directory}/{file_name}'\n",
    "\n",
    "\n",
    "df_reviews.to_csv(full_path, index=False)\n",
    "\n",
    "print(f'The file was successfully saved')"
   ]
  }
 ],
 "metadata": {
  "kernelspec": {
   "display_name": "Python 3",
   "language": "python",
   "name": "python3"
  },
  "language_info": {
   "codemirror_mode": {
    "name": "ipython",
    "version": 3
   },
   "file_extension": ".py",
   "mimetype": "text/x-python",
   "name": "python",
   "nbconvert_exporter": "python",
   "pygments_lexer": "ipython3",
   "version": "3.10.8"
  }
 },
 "nbformat": 4,
 "nbformat_minor": 2
}
