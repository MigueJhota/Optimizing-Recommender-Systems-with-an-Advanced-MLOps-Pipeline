{
 "cells": [
  {
   "cell_type": "markdown",
   "metadata": {},
   "source": [
    "**1. ETL (ORIGINAL DATASET)**"
   ]
  },
  {
   "cell_type": "markdown",
   "metadata": {},
   "source": [
    "# **1.1 Import the required libraries**"
   ]
  },
  {
   "cell_type": "markdown",
   "metadata": {},
   "source": [
    "# **1.2 Auxiliary Functions.**"
   ]
  },
  {
   "cell_type": "markdown",
   "metadata": {},
   "source": [
    "# **1.3 ETL output_steam_games**"
   ]
  },
  {
   "cell_type": "markdown",
   "metadata": {},
   "source": [
    "The code below loads data from a JSON file named output_steam_games.json into a variable named df_games.  \n",
    "\n",
    "Reading a JSON file line by line means processing the contents of a JSON file by taking each line of the file separately. Each line of the JSON file is interpreted and converted into an object or a data structure thet can be manipulated in the programming language you are using.  \n",
    "\n",
    "Most of the time, a JSON file is stored in a format that includes multiple JSON objects, each on a separate line. This is known as JSON per line or JSON lines (JSONL). Each line of the file is a complete and standanlone JSON object.  "
   ]
  },
  {
   "cell_type": "code",
   "execution_count": null,
   "metadata": {},
   "outputs": [],
   "source": []
  }
 ],
 "metadata": {
  "language_info": {
   "name": "python"
  }
 },
 "nbformat": 4,
 "nbformat_minor": 2
}
