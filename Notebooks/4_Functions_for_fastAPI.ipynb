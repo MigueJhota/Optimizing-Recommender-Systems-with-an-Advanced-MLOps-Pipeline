{
 "cells": [
  {
   "cell_type": "markdown",
   "metadata": {},
   "source": [
    "# **1. Import the required libraries.**"
   ]
  },
  {
   "cell_type": "code",
   "execution_count": 3,
   "metadata": {},
   "outputs": [],
   "source": [
    "'''Necessary libraries.'''\n",
    "import pandas as pd                 # Pandas for tabular data manipulation.\n",
    "import json                         # Module for working with JSON.\n",
    "import ast                          # Module for evaluating Python literal expressions.\n",
    "import re                           # Module for working with regular expressions.\n",
    "from textblob import TextBlob       # I import TextBlob from the textblob library.\n",
    "import nltk                         # Natural Language Toolkit.\n",
    "import csv                          # I import the CSV module into Python.\n",
    "\n",
    "'''Enable auto-reload of modules before executing a cell'''\n",
    "%load_ext autoreload\n",
    "%autoreload 2\n",
    "\n",
    "'''Import the warning module and set it to ignore all warnings'''\n",
    "import warnings\n",
    "warnings.filterwarnings(\"ignore\")"
   ]
  },
  {
   "cell_type": "markdown",
   "metadata": {},
   "source": [
    "# **2. Auxiliary Functions**"
   ]
  },
  {
   "cell_type": "code",
   "execution_count": 4,
   "metadata": {},
   "outputs": [],
   "source": [
    "def check_data_type(df):\n",
    "    \n",
    "    '''A dictionary (my_dict) is created with five keys: \"field_name\", \"data_type\", \"non_null_%\", \"null_%\" and \"nulls\". \n",
    "    These keys will be used to store information about each column of the DataFrame.'''\n",
    "    \n",
    "    my_dict = {\"field_name\" : [], \"data_type\" : [], \"non_null_%\" : [], \"null_%\" : [], \"nulls\" : []}\n",
    "    \n",
    "    \n",
    "    '''A loop is performed over all the columns of the DataFrame df'''\n",
    "    for column in df.columns:\n",
    "        percentage_non_nulls = (df[column].count() / len(df) * 100)     # The percentage of non-null values in the current column is calculated \n",
    "        my_dict['field_name'].append(column)                            # The current column is added to the list under the key 'field_name'        \n",
    "        my_dict['data_type'].append(df[column].apply(type).unique())    # Obtain the unique data type in the current column and add it to the list under the key 'data type'.\n",
    "        my_dict['non_null_%'].append(round(percentage_non_nulls, 2))    # Add the percentage of non-null values to the list under the key 'non_null_%'.\n",
    "        my_dict['null_%'].append(round(100 - percentage_non_nulls, 2))  # Add the percentage of null values to the list under the key 'null_%'.\n",
    "        my_dict['nulls'].append(df[column].isnull().sum())              # Add the number of null values in the current column to the list under the key 'nulls'.\n",
    "        \n",
    "    '''The dictionari my_dict is used to create a new DataFrame called df_info.'''\n",
    "    df_info = pd.DataFrame(my_dict)\n",
    "        \n",
    "    '''The function returns the DataFrame df_info containing information about each column,\n",
    "    incluiding the column name, data type, percentage of non-null values, percentage of null values, and the number of null values.'''\n",
    "    return df_info"
   ]
  },
  {
   "cell_type": "markdown",
   "metadata": {},
   "source": [
    "# **3. Functions.**"
   ]
  },
  {
   "cell_type": "markdown",
   "metadata": {},
   "source": [
    "**1.  def developer( developer : str):**"
   ]
  },
  {
   "cell_type": "code",
   "execution_count": 23,
   "metadata": {},
   "outputs": [
    {
     "data": {
      "text/html": [
       "<div>\n",
       "<style scoped>\n",
       "    .dataframe tbody tr th:only-of-type {\n",
       "        vertical-align: middle;\n",
       "    }\n",
       "\n",
       "    .dataframe tbody tr th {\n",
       "        vertical-align: top;\n",
       "    }\n",
       "\n",
       "    .dataframe thead th {\n",
       "        text-align: right;\n",
       "    }\n",
       "</style>\n",
       "<table border=\"1\" class=\"dataframe\">\n",
       "  <thead>\n",
       "    <tr style=\"text-align: right;\">\n",
       "      <th></th>\n",
       "      <th>developer</th>\n",
       "      <th>release_year</th>\n",
       "      <th>total_items</th>\n",
       "      <th>free_items</th>\n",
       "      <th>percentage_free</th>\n",
       "    </tr>\n",
       "  </thead>\n",
       "  <tbody>\n",
       "    <tr>\n",
       "      <th>4741</th>\n",
       "      <td>Flying Wild Hog</td>\n",
       "      <td>2016</td>\n",
       "      <td>8</td>\n",
       "      <td>0</td>\n",
       "      <td>0.00%</td>\n",
       "    </tr>\n",
       "    <tr>\n",
       "      <th>7149</th>\n",
       "      <td>L. Stotch</td>\n",
       "      <td>2016</td>\n",
       "      <td>12</td>\n",
       "      <td>0</td>\n",
       "      <td>0.00%</td>\n",
       "    </tr>\n",
       "  </tbody>\n",
       "</table>\n",
       "</div>"
      ],
      "text/plain": [
       "            developer release_year  total_items  free_items percentage_free\n",
       "4741  Flying Wild Hog         2016            8           0           0.00%\n",
       "7149        L. Stotch         2016           12           0           0.00%"
      ]
     },
     "execution_count": 23,
     "metadata": {},
     "output_type": "execute_result"
    }
   ],
   "source": [
    "'''csv_file_path'''\n",
    "csv_file_path = 'C:\\\\Users\\\\migue\\\\Optimizing Recommender Systems with an Advanced MLOps Pipeline\\\\Datasets\\\\dataset_endpoint_1.csv'\n",
    "\n",
    "'''Read the CSV file and convert it to a DataFrame'''\n",
    "df_endpoint_1 = pd.read_csv(csv_file_path)\n",
    "\n",
    "df_endpoint_1.sample(2, random_state=5)"
   ]
  },
  {
   "cell_type": "code",
   "execution_count": 24,
   "metadata": {},
   "outputs": [],
   "source": [
    "    \n",
    "def developer(dataframe, developer):\n",
    "  \"\"\"Filtra el DataFrame por el desarrollador dado y calcula estadísticas de artículos y artículos gratuitos.\"\"\"\n",
    "\n",
    "  df_developer = dataframe[dataframe['developer'] == developer]\n",
    "\n",
    "  stats_for_year = df_developer.groupby('release_year').agg({\n",
    "      'free_items': 'sum',\n",
    "      'total_items': 'sum',\n",
    "      'percentage_free': lambda x: (\n",
    "          # Extrae solo la parte numérica (elimina el '%' final)\n",
    "          pd.to_numeric(x.str.split('%').str[0], errors='coerce')\n",
    "      ).mean()  # Calcula el porcentaje promedio libre para cada año\n",
    "  }).reset_index()\n",
    "\n",
    "  stats_for_year['percentage_free'] = stats_for_year['percentage_free'].round(2)\n",
    "\n",
    "  stats_for_year = stats_for_year.rename(columns={'release_year': 'Año'})\n",
    "  stats_for_year = stats_for_year.rename(columns={'total_items': 'Artículos'})\n",
    "  stats_for_year = stats_for_year.rename(columns={'percentage_free': '% Gratis'})\n",
    "\n",
    "  return stats_for_year[['Año', 'Artículos', '% Gratis']]\n",
    "\n",
    "\n"
   ]
  },
  {
   "cell_type": "code",
   "execution_count": 25,
   "metadata": {},
   "outputs": [
    {
     "data": {
      "text/html": [
       "<div>\n",
       "<style scoped>\n",
       "    .dataframe tbody tr th:only-of-type {\n",
       "        vertical-align: middle;\n",
       "    }\n",
       "\n",
       "    .dataframe tbody tr th {\n",
       "        vertical-align: top;\n",
       "    }\n",
       "\n",
       "    .dataframe thead th {\n",
       "        text-align: right;\n",
       "    }\n",
       "</style>\n",
       "<table border=\"1\" class=\"dataframe\">\n",
       "  <thead>\n",
       "    <tr style=\"text-align: right;\">\n",
       "      <th></th>\n",
       "      <th>Año</th>\n",
       "      <th>Artículos</th>\n",
       "      <th>% Gratis</th>\n",
       "    </tr>\n",
       "  </thead>\n",
       "  <tbody>\n",
       "    <tr>\n",
       "      <th>0</th>\n",
       "      <td>1998</td>\n",
       "      <td>1</td>\n",
       "      <td>0.0</td>\n",
       "    </tr>\n",
       "    <tr>\n",
       "      <th>1</th>\n",
       "      <td>1999</td>\n",
       "      <td>1</td>\n",
       "      <td>0.0</td>\n",
       "    </tr>\n",
       "    <tr>\n",
       "      <th>2</th>\n",
       "      <td>2000</td>\n",
       "      <td>2</td>\n",
       "      <td>0.0</td>\n",
       "    </tr>\n",
       "    <tr>\n",
       "      <th>3</th>\n",
       "      <td>2001</td>\n",
       "      <td>1</td>\n",
       "      <td>0.0</td>\n",
       "    </tr>\n",
       "    <tr>\n",
       "      <th>4</th>\n",
       "      <td>2003</td>\n",
       "      <td>1</td>\n",
       "      <td>0.0</td>\n",
       "    </tr>\n",
       "    <tr>\n",
       "      <th>5</th>\n",
       "      <td>2004</td>\n",
       "      <td>5</td>\n",
       "      <td>0.0</td>\n",
       "    </tr>\n",
       "    <tr>\n",
       "      <th>6</th>\n",
       "      <td>2005</td>\n",
       "      <td>1</td>\n",
       "      <td>0.0</td>\n",
       "    </tr>\n",
       "    <tr>\n",
       "      <th>7</th>\n",
       "      <td>2006</td>\n",
       "      <td>2</td>\n",
       "      <td>0.0</td>\n",
       "    </tr>\n",
       "    <tr>\n",
       "      <th>8</th>\n",
       "      <td>2007</td>\n",
       "      <td>4</td>\n",
       "      <td>0.0</td>\n",
       "    </tr>\n",
       "    <tr>\n",
       "      <th>9</th>\n",
       "      <td>2008</td>\n",
       "      <td>1</td>\n",
       "      <td>0.0</td>\n",
       "    </tr>\n",
       "    <tr>\n",
       "      <th>10</th>\n",
       "      <td>2009</td>\n",
       "      <td>1</td>\n",
       "      <td>0.0</td>\n",
       "    </tr>\n",
       "    <tr>\n",
       "      <th>11</th>\n",
       "      <td>2010</td>\n",
       "      <td>2</td>\n",
       "      <td>0.0</td>\n",
       "    </tr>\n",
       "    <tr>\n",
       "      <th>12</th>\n",
       "      <td>2011</td>\n",
       "      <td>2</td>\n",
       "      <td>0.0</td>\n",
       "    </tr>\n",
       "    <tr>\n",
       "      <th>13</th>\n",
       "      <td>2012</td>\n",
       "      <td>3</td>\n",
       "      <td>0.0</td>\n",
       "    </tr>\n",
       "    <tr>\n",
       "      <th>14</th>\n",
       "      <td>2014</td>\n",
       "      <td>9</td>\n",
       "      <td>0.0</td>\n",
       "    </tr>\n",
       "    <tr>\n",
       "      <th>15</th>\n",
       "      <td>2016</td>\n",
       "      <td>1</td>\n",
       "      <td>0.0</td>\n",
       "    </tr>\n",
       "    <tr>\n",
       "      <th>16</th>\n",
       "      <td>2017</td>\n",
       "      <td>3</td>\n",
       "      <td>0.0</td>\n",
       "    </tr>\n",
       "  </tbody>\n",
       "</table>\n",
       "</div>"
      ],
      "text/plain": [
       "     Año  Artículos  % Gratis\n",
       "0   1998          1       0.0\n",
       "1   1999          1       0.0\n",
       "2   2000          2       0.0\n",
       "3   2001          1       0.0\n",
       "4   2003          1       0.0\n",
       "5   2004          5       0.0\n",
       "6   2005          1       0.0\n",
       "7   2006          2       0.0\n",
       "8   2007          4       0.0\n",
       "9   2008          1       0.0\n",
       "10  2009          1       0.0\n",
       "11  2010          2       0.0\n",
       "12  2011          2       0.0\n",
       "13  2012          3       0.0\n",
       "14  2014          9       0.0\n",
       "15  2016          1       0.0\n",
       "16  2017          3       0.0"
      ]
     },
     "execution_count": 25,
     "metadata": {},
     "output_type": "execute_result"
    }
   ],
   "source": [
    "developer(df_endpoint_1,'Valve')\n"
   ]
  },
  {
   "cell_type": "markdown",
   "metadata": {},
   "source": [
    "**2.  def userdata( user_id : str):**"
   ]
  },
  {
   "cell_type": "code",
   "execution_count": 26,
   "metadata": {},
   "outputs": [
    {
     "data": {
      "text/html": [
       "<div>\n",
       "<style scoped>\n",
       "    .dataframe tbody tr th:only-of-type {\n",
       "        vertical-align: middle;\n",
       "    }\n",
       "\n",
       "    .dataframe tbody tr th {\n",
       "        vertical-align: top;\n",
       "    }\n",
       "\n",
       "    .dataframe thead th {\n",
       "        text-align: right;\n",
       "    }\n",
       "</style>\n",
       "<table border=\"1\" class=\"dataframe\">\n",
       "  <thead>\n",
       "    <tr style=\"text-align: right;\">\n",
       "      <th></th>\n",
       "      <th>developer</th>\n",
       "      <th>item_id</th>\n",
       "      <th>release_year</th>\n",
       "      <th>user_id</th>\n",
       "      <th>total_amount_spent</th>\n",
       "      <th>percentage_true</th>\n",
       "    </tr>\n",
       "  </thead>\n",
       "  <tbody>\n",
       "    <tr>\n",
       "      <th>81344</th>\n",
       "      <td>Psyonix, Inc.</td>\n",
       "      <td>252950</td>\n",
       "      <td>2015</td>\n",
       "      <td>76561197964772156</td>\n",
       "      <td>2358.82</td>\n",
       "      <td>100.00%</td>\n",
       "    </tr>\n",
       "    <tr>\n",
       "      <th>246754</th>\n",
       "      <td>Hothead Games</td>\n",
       "      <td>18000</td>\n",
       "      <td>2008</td>\n",
       "      <td>murdadar</td>\n",
       "      <td>1869.66</td>\n",
       "      <td>100.00%</td>\n",
       "    </tr>\n",
       "  </tbody>\n",
       "</table>\n",
       "</div>"
      ],
      "text/plain": [
       "            developer  item_id release_year            user_id  \\\n",
       "81344   Psyonix, Inc.   252950         2015  76561197964772156   \n",
       "246754  Hothead Games    18000         2008           murdadar   \n",
       "\n",
       "        total_amount_spent percentage_true  \n",
       "81344              2358.82         100.00%  \n",
       "246754             1869.66         100.00%  "
      ]
     },
     "execution_count": 26,
     "metadata": {},
     "output_type": "execute_result"
    }
   ],
   "source": [
    "'''csv_file_path'''\n",
    "csv_file_path = 'C:\\\\Users\\\\migue\\\\Optimizing Recommender Systems with an Advanced MLOps Pipeline\\\\Datasets\\\\dataset_endpoint_2.csv'\n",
    "\n",
    "'''Read the CSV file and convert it to a DataFrame'''\n",
    "df_endpoint_2 = pd.read_csv(csv_file_path)\n",
    "\n",
    "df_endpoint_2.sample(2, random_state=5)"
   ]
  },
  {
   "cell_type": "code",
   "execution_count": 29,
   "metadata": {},
   "outputs": [],
   "source": [
    "\n",
    "def userdata(df, user_id):\n",
    "    '''Filter the DataFrame to get user information'''\n",
    "    user = df[df['user_id'] == user_id]\n",
    "\n",
    "    if user.empty:\n",
    "        return f\"The user {user_id} does not exist in the DataFrame.\"\n",
    "\n",
    "    '''Get the first value of the Series (since there should be only one user)'''\n",
    "    spent_money = user['total_amount_spent'].iloc[0]\n",
    "    recommendation_percentage = float(user['percentage_true'].iloc[0].rstrip('%'))\n",
    "    number_items = user['item_id'].nunique()\n",
    "\n",
    "    '''create return dictionary'''\n",
    "    result = {\n",
    "        \"user\": user_id,\n",
    "        \"Spent money\": f\"${spent_money:.2f} USD\",\n",
    "        \"% de recommendation\": f\"{recommendation_percentage:.2f}%\",\n",
    "        \"Number of items\": number_items\n",
    "    }\n",
    "\n",
    "    return result\n"
   ]
  },
  {
   "cell_type": "code",
   "execution_count": 30,
   "metadata": {},
   "outputs": [
    {
     "data": {
      "text/plain": [
       "{'user': 'GamekungX',\n",
       " 'Spent money': '$2099.16 USD',\n",
       " '% de recommendation': '100.00%',\n",
       " 'Number of items': 2}"
      ]
     },
     "execution_count": 30,
     "metadata": {},
     "output_type": "execute_result"
    }
   ],
   "source": [
    "userdata(df_endpoint_2,'GamekungX')"
   ]
  },
  {
   "cell_type": "markdown",
   "metadata": {},
   "source": [
    "**3.  def UserForRenge( genre : str):**"
   ]
  },
  {
   "cell_type": "code",
   "execution_count": 31,
   "metadata": {},
   "outputs": [
    {
     "data": {
      "text/html": [
       "<div>\n",
       "<style scoped>\n",
       "    .dataframe tbody tr th:only-of-type {\n",
       "        vertical-align: middle;\n",
       "    }\n",
       "\n",
       "    .dataframe tbody tr th {\n",
       "        vertical-align: top;\n",
       "    }\n",
       "\n",
       "    .dataframe thead th {\n",
       "        text-align: right;\n",
       "    }\n",
       "</style>\n",
       "<table border=\"1\" class=\"dataframe\">\n",
       "  <thead>\n",
       "    <tr style=\"text-align: right;\">\n",
       "      <th></th>\n",
       "      <th>item_id</th>\n",
       "      <th>playtime_forever</th>\n",
       "      <th>user_id</th>\n",
       "      <th>genres</th>\n",
       "      <th>release_year</th>\n",
       "    </tr>\n",
       "  </thead>\n",
       "  <tbody>\n",
       "    <tr>\n",
       "      <th>87970</th>\n",
       "      <td>105600</td>\n",
       "      <td>2639</td>\n",
       "      <td>Foddzy</td>\n",
       "      <td>RPG</td>\n",
       "      <td>2011</td>\n",
       "    </tr>\n",
       "    <tr>\n",
       "      <th>443420</th>\n",
       "      <td>206500</td>\n",
       "      <td>1236</td>\n",
       "      <td>Stalker669</td>\n",
       "      <td>Strategy</td>\n",
       "      <td>2012</td>\n",
       "    </tr>\n",
       "  </tbody>\n",
       "</table>\n",
       "</div>"
      ],
      "text/plain": [
       "        item_id  playtime_forever     user_id    genres release_year\n",
       "87970    105600              2639      Foddzy       RPG         2011\n",
       "443420   206500              1236  Stalker669  Strategy         2012"
      ]
     },
     "execution_count": 31,
     "metadata": {},
     "output_type": "execute_result"
    }
   ],
   "source": [
    "'''csv_file_path'''\n",
    "csv_file_path = 'C:\\\\Users\\\\migue\\\\Optimizing Recommender Systems with an Advanced MLOps Pipeline\\\\Datasets\\\\dataset_endpoint_3.csv'\n",
    "\n",
    "'''Read the CSV file and convert it to a DataFrame'''\n",
    "df_endpoint_3 = pd.read_csv(csv_file_path)\n",
    "\n",
    "df_endpoint_3.sample(2, random_state=5)"
   ]
  },
  {
   "cell_type": "code",
   "execution_count": 32,
   "metadata": {},
   "outputs": [
    {
     "data": {
      "text/html": [
       "<div>\n",
       "<style scoped>\n",
       "    .dataframe tbody tr th:only-of-type {\n",
       "        vertical-align: middle;\n",
       "    }\n",
       "\n",
       "    .dataframe tbody tr th {\n",
       "        vertical-align: top;\n",
       "    }\n",
       "\n",
       "    .dataframe thead th {\n",
       "        text-align: right;\n",
       "    }\n",
       "</style>\n",
       "<table border=\"1\" class=\"dataframe\">\n",
       "  <thead>\n",
       "    <tr style=\"text-align: right;\">\n",
       "      <th></th>\n",
       "      <th>field_name</th>\n",
       "      <th>data_type</th>\n",
       "      <th>non_null_%</th>\n",
       "      <th>null_%</th>\n",
       "      <th>nulls</th>\n",
       "    </tr>\n",
       "  </thead>\n",
       "  <tbody>\n",
       "    <tr>\n",
       "      <th>0</th>\n",
       "      <td>item_id</td>\n",
       "      <td>[&lt;class 'int'&gt;]</td>\n",
       "      <td>100.0</td>\n",
       "      <td>0.0</td>\n",
       "      <td>0</td>\n",
       "    </tr>\n",
       "    <tr>\n",
       "      <th>1</th>\n",
       "      <td>playtime_forever</td>\n",
       "      <td>[&lt;class 'int'&gt;]</td>\n",
       "      <td>100.0</td>\n",
       "      <td>0.0</td>\n",
       "      <td>0</td>\n",
       "    </tr>\n",
       "    <tr>\n",
       "      <th>2</th>\n",
       "      <td>user_id</td>\n",
       "      <td>[&lt;class 'str'&gt;]</td>\n",
       "      <td>100.0</td>\n",
       "      <td>0.0</td>\n",
       "      <td>0</td>\n",
       "    </tr>\n",
       "    <tr>\n",
       "      <th>3</th>\n",
       "      <td>genres</td>\n",
       "      <td>[&lt;class 'str'&gt;]</td>\n",
       "      <td>100.0</td>\n",
       "      <td>0.0</td>\n",
       "      <td>0</td>\n",
       "    </tr>\n",
       "    <tr>\n",
       "      <th>4</th>\n",
       "      <td>release_year</td>\n",
       "      <td>[&lt;class 'str'&gt;]</td>\n",
       "      <td>100.0</td>\n",
       "      <td>0.0</td>\n",
       "      <td>0</td>\n",
       "    </tr>\n",
       "  </tbody>\n",
       "</table>\n",
       "</div>"
      ],
      "text/plain": [
       "         field_name        data_type  non_null_%  null_%  nulls\n",
       "0           item_id  [<class 'int'>]       100.0     0.0      0\n",
       "1  playtime_forever  [<class 'int'>]       100.0     0.0      0\n",
       "2           user_id  [<class 'str'>]       100.0     0.0      0\n",
       "3            genres  [<class 'str'>]       100.0     0.0      0\n",
       "4      release_year  [<class 'str'>]       100.0     0.0      0"
      ]
     },
     "execution_count": 32,
     "metadata": {},
     "output_type": "execute_result"
    }
   ],
   "source": [
    "check_data_type(df_endpoint_3)"
   ]
  },
  {
   "cell_type": "code",
   "execution_count": 33,
   "metadata": {},
   "outputs": [],
   "source": [
    "def UserForGenre(genre: str, df):\n",
    "    '''Convert \"release_year\" column to integer data type.'''\n",
    "    df['release_year'] = pd.to_numeric(df['release_year'], errors='coerce', downcast='integer')\n",
    "\n",
    "    '''Filter the DataFrame by the given gender.'''\n",
    "    genre_df = df[df['genres'] == genre]\n",
    "\n",
    "    '''# Convert the 'playtime_forever' column to hours (rounded to whole numbers).'''\n",
    "    genre_df['playtime_forever'] = (genre_df['playtime_forever'] / 60 / 60).astype(int)\n",
    "\n",
    "    '''Find the user with the most hours played for the given genre'''\n",
    "    max_playtime_user = genre_df.loc[genre_df['playtime_forever'].idxmax(), 'user_id']\n",
    "\n",
    "    '''Group by year and add hours played'''\n",
    "    yearly_playtime = genre_df.groupby('release_year')['playtime_forever'].sum().reset_index()\n",
    "\n",
    "    '''Create the list of dictionaries for return'''\n",
    "    playtime_list = [{'Year': int(year), 'Hours': int(hours)} for year, hours in zip(yearly_playtime['release_year'], yearly_playtime['playtime_forever'])]\n",
    "\n",
    "    '''Create the return dictionary'''\n",
    "    result = {\"User with the most hours played for gender \" + genre: max_playtime_user, \"Hours played\": playtime_list}\n",
    "\n",
    "    return result"
   ]
  },
  {
   "cell_type": "code",
   "execution_count": 34,
   "metadata": {},
   "outputs": [
    {
     "data": {
      "text/plain": [
       "{'User with the most hours played for gender Indie': 'thiefofrosesinlalaland',\n",
       " 'Hours played': [{'Year': 1988, 'Hours': 0},\n",
       "  {'Year': 1995, 'Hours': 0},\n",
       "  {'Year': 1996, 'Hours': 0},\n",
       "  {'Year': 1997, 'Hours': 0},\n",
       "  {'Year': 1998, 'Hours': 0},\n",
       "  {'Year': 1999, 'Hours': 0},\n",
       "  {'Year': 2000, 'Hours': 0},\n",
       "  {'Year': 2001, 'Hours': 0},\n",
       "  {'Year': 2002, 'Hours': 0},\n",
       "  {'Year': 2003, 'Hours': 1},\n",
       "  {'Year': 2004, 'Hours': 0},\n",
       "  {'Year': 2005, 'Hours': 0},\n",
       "  {'Year': 2006, 'Hours': 3243},\n",
       "  {'Year': 2007, 'Hours': 5},\n",
       "  {'Year': 2008, 'Hours': 23},\n",
       "  {'Year': 2009, 'Hours': 7},\n",
       "  {'Year': 2010, 'Hours': 6},\n",
       "  {'Year': 2011, 'Hours': 3280},\n",
       "  {'Year': 2012, 'Hours': 860},\n",
       "  {'Year': 2013, 'Hours': 1908},\n",
       "  {'Year': 2014, 'Hours': 272},\n",
       "  {'Year': 2015, 'Hours': 1526},\n",
       "  {'Year': 2016, 'Hours': 665},\n",
       "  {'Year': 2017, 'Hours': 1634},\n",
       "  {'Year': 2018, 'Hours': 0}]}"
      ]
     },
     "execution_count": 34,
     "metadata": {},
     "output_type": "execute_result"
    }
   ],
   "source": [
    "UserForGenre('Indie', df_endpoint_3)\n"
   ]
  },
  {
   "cell_type": "markdown",
   "metadata": {},
   "source": [
    "**4.  def best_developer_year( year : str):**"
   ]
  },
  {
   "cell_type": "code",
   "execution_count": 35,
   "metadata": {},
   "outputs": [
    {
     "data": {
      "text/html": [
       "<div>\n",
       "<style scoped>\n",
       "    .dataframe tbody tr th:only-of-type {\n",
       "        vertical-align: middle;\n",
       "    }\n",
       "\n",
       "    .dataframe tbody tr th {\n",
       "        vertical-align: top;\n",
       "    }\n",
       "\n",
       "    .dataframe thead th {\n",
       "        text-align: right;\n",
       "    }\n",
       "</style>\n",
       "<table border=\"1\" class=\"dataframe\">\n",
       "  <thead>\n",
       "    <tr style=\"text-align: right;\">\n",
       "      <th></th>\n",
       "      <th>release_year</th>\n",
       "      <th>sentiment_analysis</th>\n",
       "      <th>developer</th>\n",
       "    </tr>\n",
       "  </thead>\n",
       "  <tbody>\n",
       "    <tr>\n",
       "      <th>45540</th>\n",
       "      <td>2016</td>\n",
       "      <td>1</td>\n",
       "      <td>Tripwire Interactive</td>\n",
       "    </tr>\n",
       "    <tr>\n",
       "      <th>65401</th>\n",
       "      <td>2015</td>\n",
       "      <td>1</td>\n",
       "      <td>Free Lives</td>\n",
       "    </tr>\n",
       "  </tbody>\n",
       "</table>\n",
       "</div>"
      ],
      "text/plain": [
       "       release_year  sentiment_analysis             developer\n",
       "45540          2016                   1  Tripwire Interactive\n",
       "65401          2015                   1            Free Lives"
      ]
     },
     "execution_count": 35,
     "metadata": {},
     "output_type": "execute_result"
    }
   ],
   "source": [
    "'''csv_file_path'''\n",
    "csv_file_path = 'C:\\\\Users\\\\migue\\\\Optimizing Recommender Systems with an Advanced MLOps Pipeline\\\\Datasets\\\\dataset_endpoint_4.csv'\n",
    "\n",
    "'''Read the CSV file and convert it to a DataFrame'''\n",
    "df_endpoint_4 = pd.read_csv(csv_file_path)\n",
    "\n",
    "df_endpoint_4.sample(2, random_state=5)"
   ]
  },
  {
   "cell_type": "code",
   "execution_count": 36,
   "metadata": {},
   "outputs": [],
   "source": [
    "def best_developer_year(dataframe, year):\n",
    "    '''Filter by year ordered'''\n",
    "    df_year = dataframe[dataframe['release_year'] == year]\n",
    "\n",
    "    '''Filter by values ​​equal to 2 in the sentiment analysis column'''\n",
    "    df_filtered = df_year[df_year['sentiment_analysis'] == 2]\n",
    "\n",
    "    '''Group by developer and add sentiment_analysis column'''\n",
    "    df_grouped = df_filtered.groupby('developer')['sentiment_analysis'].sum().reset_index()\n",
    "\n",
    "    '''Sort the DataFrame by the summed column in descending order'''\n",
    "    df_sorted = df_grouped.sort_values(by='sentiment_analysis', ascending=False)\n",
    "\n",
    "    '''Get the first three developers and their sums'''\n",
    "    top_developers = df_sorted.head(3)\n",
    "\n",
    "    '''Create the return format'''\n",
    "    result = [{\"Position {}: {}\".format(i+1, row['developer']): row['sentiment_analysis']} for i, (_, row) in enumerate(top_developers.iterrows())]\n",
    "\n",
    "    return result"
   ]
  },
  {
   "cell_type": "code",
   "execution_count": 37,
   "metadata": {},
   "outputs": [
    {
     "data": {
      "text/plain": [
       "[{'Position 1: Smartly Dressed Games': 2850},\n",
       " {'Position 2: Freejam': 1176},\n",
       " {'Position 3: Studio Wildcard,Instinct Games,Efecto Studios,Virtual Basement LLC': 644}]"
      ]
     },
     "execution_count": 37,
     "metadata": {},
     "output_type": "execute_result"
    }
   ],
   "source": [
    "best_developer_year(df_endpoint_4, 2017)\n"
   ]
  },
  {
   "cell_type": "markdown",
   "metadata": {},
   "source": [
    "**5.  def developer_reviews_analysis( developer : str):**"
   ]
  },
  {
   "cell_type": "code",
   "execution_count": 38,
   "metadata": {},
   "outputs": [
    {
     "data": {
      "text/html": [
       "<div>\n",
       "<style scoped>\n",
       "    .dataframe tbody tr th:only-of-type {\n",
       "        vertical-align: middle;\n",
       "    }\n",
       "\n",
       "    .dataframe tbody tr th {\n",
       "        vertical-align: top;\n",
       "    }\n",
       "\n",
       "    .dataframe thead th {\n",
       "        text-align: right;\n",
       "    }\n",
       "</style>\n",
       "<table border=\"1\" class=\"dataframe\">\n",
       "  <thead>\n",
       "    <tr style=\"text-align: right;\">\n",
       "      <th></th>\n",
       "      <th>sentiment_analysis</th>\n",
       "      <th>developer</th>\n",
       "    </tr>\n",
       "  </thead>\n",
       "  <tbody>\n",
       "    <tr>\n",
       "      <th>19375</th>\n",
       "      <td>2</td>\n",
       "      <td>Valve</td>\n",
       "    </tr>\n",
       "    <tr>\n",
       "      <th>27713</th>\n",
       "      <td>0</td>\n",
       "      <td>Expansive Worlds,Avalanche Studios</td>\n",
       "    </tr>\n",
       "  </tbody>\n",
       "</table>\n",
       "</div>"
      ],
      "text/plain": [
       "       sentiment_analysis                           developer\n",
       "19375                   2                               Valve\n",
       "27713                   0  Expansive Worlds,Avalanche Studios"
      ]
     },
     "execution_count": 38,
     "metadata": {},
     "output_type": "execute_result"
    }
   ],
   "source": [
    "'''csv_file_path'''\n",
    "csv_file_path = 'C:\\\\Users\\\\migue\\\\Optimizing Recommender Systems with an Advanced MLOps Pipeline\\\\Datasets\\\\dataset_endpoint_5.csv'\n",
    "\n",
    "'''Read the CSV file and convert it to a DataFrame'''\n",
    "df_endpoint_5 = pd.read_csv(csv_file_path)\n",
    "\n",
    "df_endpoint_5.sample(2, random_state=5)"
   ]
  },
  {
   "cell_type": "code",
   "execution_count": 39,
   "metadata": {},
   "outputs": [],
   "source": [
    "\n",
    "def developer_reviews_analysis(df, developer):\n",
    "    '''Filter data for the developer provided'''\n",
    "    filtered_data = df[df['developer'] == developer]\n",
    "\n",
    "    '''Initialize counters'''\n",
    "    positive_count = 0\n",
    "    negative_count = 0\n",
    "\n",
    "    '''Count positive and negative reviews'''\n",
    "    for sentiment in filtered_data['sentiment_analysis']:\n",
    "        if sentiment == 0:\n",
    "            negative_count += 1\n",
    "        elif sentiment == 2:\n",
    "            positive_count += 1\n",
    "\n",
    "    '''Create the results dictionary with the desired format'''\n",
    "    result = {developer: [f\"Negative = {negative_count}\", f\"Positive = {positive_count}\"]}\n",
    "\n",
    "    return result"
   ]
  },
  {
   "cell_type": "code",
   "execution_count": 40,
   "metadata": {},
   "outputs": [
    {
     "data": {
      "text/plain": [
       "{'Valve': ['Negative = 969', 'Positive = 4817']}"
      ]
     },
     "execution_count": 40,
     "metadata": {},
     "output_type": "execute_result"
    }
   ],
   "source": [
    "developer_reviews_analysis(df_endpoint_5,'Valve')\n"
   ]
  }
 ],
 "metadata": {
  "kernelspec": {
   "display_name": "Python 3",
   "language": "python",
   "name": "python3"
  },
  "language_info": {
   "codemirror_mode": {
    "name": "ipython",
    "version": 3
   },
   "file_extension": ".py",
   "mimetype": "text/x-python",
   "name": "python",
   "nbconvert_exporter": "python",
   "pygments_lexer": "ipython3",
   "version": "3.10.8"
  }
 },
 "nbformat": 4,
 "nbformat_minor": 2
}
